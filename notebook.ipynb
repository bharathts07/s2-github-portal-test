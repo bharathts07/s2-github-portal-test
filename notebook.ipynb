{
 "cells": [
  {
   "cell_type": "code",
   "execution_count": 16,
   "id": "c3636aed-e72f-4ccf-b1b5-689cbab3be3c",
   "metadata": {
    "execution": {
     "iopub.execute_input": "2025-10-19T21:25:45.169720Z",
     "iopub.status.busy": "2025-10-19T21:25:45.169450Z",
     "iopub.status.idle": "2025-10-19T21:25:45.173579Z",
     "shell.execute_reply": "2025-10-19T21:25:45.173056Z",
     "shell.execute_reply.started": "2025-10-19T21:25:45.169688Z"
    },
    "language": "python",
    "trusted": true
   },
   "outputs": [
    {
     "name": "stdout",
     "output_type": "stream",
     "text": [
      "hello world\n"
     ]
    }
   ],
   "source": [
    "print(\"hello world\")"
   ]
  }
 ],
 "metadata": {
  "jupyterlab": {
   "notebooks": {
    "version_major": 6,
    "version_minor": 4
   }
  },
  "kernelspec": {
   "display_name": "Python 3 (ipykernel)",
   "language": "python",
   "name": "python3"
  },
  "language_info": {
   "codemirror_mode": {
    "name": "ipython",
    "version": 3
   },
   "file_extension": ".py",
   "mimetype": "text/x-python",
   "name": "python",
   "nbconvert_exporter": "python",
   "pygments_lexer": "ipython3",
   "version": "3.11.9"
  },
  "singlestore_cell_default_language": "python",
  "singlestore_connection": {
   "connectionID": "",
   "defaultDatabase": ""
  },
  "singlestore_row_limit": 300
 },
 "nbformat": 4,
 "nbformat_minor": 5
}
