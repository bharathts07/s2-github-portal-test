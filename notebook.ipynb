{
  "cells": [
    {
      "id": "c3636aed-e72f-4ccf-b1b5-689cbab3be3c",
      "cell_type": "code",
      "metadata": {
        "execution": {
          "iopub.execute_input": "2025-10-19T21:25:45.169720Z",
          "iopub.status.busy": "2025-10-19T21:25:45.169450Z",
          "iopub.status.idle": "2025-10-19T21:25:45.173579Z",
          "shell.execute_reply": "2025-10-19T21:25:45.173056Z",
          "shell.execute_reply.started": "2025-10-19T21:25:45.169688Z"
        },
        "language": "python",
        "trusted": true
      },
      "source": "print(\"hello world updated in github\")",
      "outputs": [
        {
          "output_type": "stream",
          "name": "stdout",
          "text": "hello world\n"
        }
      ],
      "execution_count": 16
    }
  ],
  "metadata": {
    "kernelspec": {
      "display_name": "Python 3 (ipykernel)",
      "language": "python",
      "name": "python3"
    },
    "language_info": {
      "codemirror_mode": {
        "name": "ipython",
        "version": 3
      },
      "file_extension": ".py",
      "mimeType": "text/x-python",
      "name": "python",
      "nbconvert_exporter": "python",
      "pygments_lexer": "ipython3",
      "version": "3.11.9"
    },
    "jupyterlab": {
      "notebooks": {
        "version_major": 6,
        "version_minor": 4
      }
    },
    "singlestore_connection": {
      "connectionID": "",
      "defaultDatabase": ""
    },
    "singlestore_cell_default_language": "python",
    "singlestore_row_limit": 300
  },
  "nbformat": 4,
  "nbformat_minor": 5
}
